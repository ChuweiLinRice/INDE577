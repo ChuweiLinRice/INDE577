{
 "cells": [
  {
   "cell_type": "code",
   "execution_count": 1,
   "metadata": {},
   "outputs": [],
   "source": [
    "import pandas as pd\n",
    "import numpy as np\n",
    "import matplotlib.pyplot as plt\n",
    "import math"
   ]
  },
  {
   "cell_type": "code",
   "execution_count": 2,
   "metadata": {},
   "outputs": [],
   "source": [
    "df = pd.DataFrame({\n",
    "'x': [12, 20, 28, 18, 29, 33, 24, 45, 45, 52, 51, 52, 55, 53, 55, 61, 64,\n",
    "69, 72],\n",
    "'y': [39, 36, 30, 52, 54, 46, 55, 59, 63, 70, 66, 63, 58, 23, 14, 8, 19,\n",
    "7, 24]\n",
    "})"
   ]
  },
  {
   "cell_type": "code",
   "execution_count": 15,
   "metadata": {},
   "outputs": [
    {
     "data": {
      "text/plain": [
       "19"
      ]
     },
     "execution_count": 15,
     "metadata": {},
     "output_type": "execute_result"
    }
   ],
   "source": [
    "len(df.to_numpy())"
   ]
  },
  {
   "cell_type": "code",
   "execution_count": 16,
   "metadata": {},
   "outputs": [],
   "source": [
    "def Kmeans(df, K, iter = 10):\n",
    "    df = df.to_numpy()\n",
    "    row = len(df)\n",
    "    centroids = df[np.random.randint(row, size = K),:]\n",
    "    for i in range(iter): \n",
    "        distance = np.zeros((row,K), dtype = int)\n",
    "        for j in range(K):\n",
    "            distance[:,j] = np.array([math.sqrt(np.sum((centroids[j]-x)**2)) for x in df])\n",
    "        cluster = np.array([d.argmin() for d in distance])\n",
    "        for new in range(K):\n",
    "            df_new = df[cluster == new,:]\n",
    "            centroids[new,:] = np.sum(df_new,axis = 0) / df_new.shape[0]\n",
    "    return cluster, centroids"
   ]
  },
  {
   "cell_type": "code",
   "execution_count": 28,
   "metadata": {},
   "outputs": [
    {
     "data": {
      "text/plain": [
       "(array([1, 1, 1, 1, 1, 1, 1, 1, 1, 1, 1, 1, 1, 0, 0, 0, 0, 0, 0],\n",
       "       dtype=int64),\n",
       " array([[62, 15],\n",
       "        [35, 53]], dtype=int64))"
      ]
     },
     "execution_count": 28,
     "metadata": {},
     "output_type": "execute_result"
    }
   ],
   "source": [
    "Kmeans(df, 2, iter = 10)"
   ]
  },
  {
   "cell_type": "code",
   "execution_count": 29,
   "metadata": {},
   "outputs": [
    {
     "data": {
      "text/plain": [
       "(array([1, 1, 1, 1, 1, 1, 1, 0, 0, 0, 0, 0, 0, 2, 2, 2, 2, 2, 2],\n",
       "       dtype=int64),\n",
       " array([[50, 63],\n",
       "        [23, 44],\n",
       "        [62, 15]], dtype=int64))"
      ]
     },
     "execution_count": 29,
     "metadata": {},
     "output_type": "execute_result"
    }
   ],
   "source": [
    "Kmeans(df, 3, iter = 10)"
   ]
  },
  {
   "cell_type": "code",
   "execution_count": 24,
   "metadata": {},
   "outputs": [
    {
     "data": {
      "text/plain": [
       "(array([3, 3, 3, 3, 3, 3, 3, 0, 0, 0, 0, 0, 0, 1, 2, 2, 1, 2, 1],\n",
       "       dtype=int64),\n",
       " array([[50, 63],\n",
       "        [63, 22],\n",
       "        [61,  9],\n",
       "        [23, 44]], dtype=int64))"
      ]
     },
     "execution_count": 24,
     "metadata": {},
     "output_type": "execute_result"
    }
   ],
   "source": [
    "Kmeans(df, 4, iter = 10)"
   ]
  }
 ],
 "metadata": {
  "kernelspec": {
   "display_name": "Python 3",
   "language": "python",
   "name": "python3"
  },
  "language_info": {
   "codemirror_mode": {
    "name": "ipython",
    "version": 3
   },
   "file_extension": ".py",
   "mimetype": "text/x-python",
   "name": "python",
   "nbconvert_exporter": "python",
   "pygments_lexer": "ipython3",
   "version": "3.8.3"
  }
 },
 "nbformat": 4,
 "nbformat_minor": 4
}
